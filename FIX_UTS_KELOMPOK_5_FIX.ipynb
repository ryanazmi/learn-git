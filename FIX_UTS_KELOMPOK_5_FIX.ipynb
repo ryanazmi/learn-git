{
  "cells": [
    {
      "cell_type": "markdown",
      "metadata": {
        "id": "view-in-github",
        "colab_type": "text"
      },
      "source": [
        "<a href=\"https://colab.research.google.com/github/ryanazmi/learn-git/blob/master/FIX_UTS_KELOMPOK_5_FIX.ipynb\" target=\"_parent\"><img src=\"https://colab.research.google.com/assets/colab-badge.svg\" alt=\"Open In Colab\"/></a>"
      ]
    },
    {
      "cell_type": "markdown",
      "metadata": {
        "id": "RQLJpxpfbXjL"
      },
      "source": [
        "## **Tugas Besar Pengganti Ujian Tengah Semester (UTS), Semester Genap 2020/2021**\n",
        "### Deadline: Jumat, 25 Juni 2021, Jam 11.00 (siang)\n",
        "##### Dosen: FYS"
      ]
    },
    {
      "cell_type": "markdown",
      "metadata": {
        "id": "kax8y6SwbXjQ"
      },
      "source": [
        "---\n",
        "***'Dengan ini kami menyatakan bahwa tugas ini dibuat sebenar-benarnya hasil kerjasama kami dalam kelompok. Kami menjunjung tinggi aspek kejujuran sehingga kami dapat pastikan hasil ini bukan berasal dari meniru/mencontek/meminta hasil/berdiskusi dengan kelompok lain, baik dalam satu kelas yang sama maupun berbeda'***\n",
        "\n",
        "---\n",
        "Bandung, 21 June 2021\n",
        "\n",
        "> Kelompok: 5\n",
        ">\n",
        "> Anggota:\n",
        "> 1. Ryan Azmi Zuhdi Damanik, 1102170116\n",
        "> 2. Muhammad Nur Faizi, 1102174006\n",
        "> 3. Muhammad Reza Firmansyah, 1102174115\n",
        "> 4. Yonathan Verrel Lou Drie, 1102180128\n",
        "> 5. ....\n"
      ]
    },
    {
      "cell_type": "markdown",
      "metadata": {
        "id": "tvTEd4WDbXjR"
      },
      "source": [
        "### **Penjelasan (harus dibaca dan dimengerti)**:\n",
        "* Tugas besar harus dikerjakan menggunakan bahasa pemrograman `Python` dan *library* `Scikit-Learn`. Pengkodean yang dilakukan tiap soal berurut sesuai dengan perintah-perintah pada tiap soal (Lihat **A.2. Dasar-dasar *Applications Programming Interface* (API) dari *Scikit-Learn*** pada **Chapter 3**)\n",
        "* Pada setiap bagian jawaban, anda bisa menambahkan cell `code` untuk kode maupun cell `Markdown` untuk penjelasan, sesuai dengan kebutuhan masing-masing.\n",
        "* Dikumpulkan sesuai dengan tenggat waktu, setiap keterlambatan akan diberikan hukuman pengurangan 10 poin setiap kelipatan 15 menit.\n",
        "* Dikerjakan dengan `Jupyter Lab` atau `Jupyter Notebook`, dan dikumpulkan dalam bentuk file dengan extension `.ipynb` yang digunakan pada `Jupyter Notebook/Jupyter Lab` (tidak boleh dalam format lain)\n"
      ]
    },
    {
      "cell_type": "markdown",
      "metadata": {
        "id": "OPEVihzKbXjS"
      },
      "source": [
        "## **1. Metode Regersi Linier (Prediction)** untuk menentukan berat/panjang ikan\n"
      ]
    },
    {
      "cell_type": "markdown",
      "metadata": {
        "id": "1AsXTSZ9bXjT"
      },
      "source": [
        "<img src=\"BeratIkan.png\" alt=\"GDP\" width=\"600\"/>\n",
        "<div style=\"text-align: center\">\n",
        "<center>Gambar 1: Ilustrasi feature-feature untuk estimasi/prediksi berat ikan"
      ]
    },
    {
      "cell_type": "markdown",
      "metadata": {
        "id": "AnVTTqFvbXjT"
      },
      "source": [
        "setelah melakukan suatu prediksi dapat diketahui bahwa regresi linier dapat memodelkan suatu data yang joko berikanJoko ingin melakukan prediksi/estimasi berat atau panjang ikan berdasarkan pengamatan ukuran ikan (panjang/lebar) seperti yang diilustrasikan pada Gambar 1. Joko telah mengumpulkan Dataset ikan yang dijual di pasar dengan spesies ikan yaitu *bream, white fish, perch, roach fish, pike* dan *smelt* dan anda dapat mengaksesnya pada berikut [**Data Ikan 1**](https://drive.google.com/file/d/18_iKjziKMLwpI3HdRAPz9ZhqsyImq3mA/view?usp=sharing).\n",
        "\n",
        "Karena Joko belum pernah mengambil matakuliah Machine Learning, Joko bingung menentukan model yang akan digunakan dan ingin meminta bantuan anda sebagai seorang konsultan *Machine Learning*. Anda diminta Joko menemukan model yang tepat untuk mengestimasi berat dan panjang ikan tersebut dengan kinerja yang baik. Setiap kelompok bekerja dengan dataset yang sama tetapi dengan aturan berikut:\n",
        "\n",
        "1. Kelompok 1, prediksi berat ikan menggunakan parameter d (Width) dengan Regresi (linier/polinomial)\n",
        "2. Kelompok 2, prediksi berat ikan menggunakan parameter b (Length2) dengan Regresi (linier/polinomial)\n",
        "3. Kelompok 3, prediksi panjang ikan(Length3) menggunakan parameter (Weight) dengan Regresi (linier/polinomial)\n",
        "4. Kelompok 4, prediksi berat ikan menggunakan parameter a(Length1) dengan jenis ikan Perch menggunakan Regresi (linier/polinomial)\n",
        "5. Kelompok 5, prediksi berat ikan menggunakan ciri b (Length2) dengan jenis ikan bream menggunakan Regresi (linier/polinomial)\n",
        "\n",
        "#### **Berikut adalah langkah-langkah solusi yang anda gunakan untuk membantu Joko menemukan model regresi terbaik**"
      ]
    },
    {
      "cell_type": "markdown",
      "metadata": {
        "id": "qQI5AqUpbXjU"
      },
      "source": [
        "* Copy dataset yang ada pada link di atas ke dalam direktori lokal masing-masing (untuk memudahkan tempatkan pada folder yang sama dengan file Tugas Besar anda).\n",
        "\n",
        "\n",
        "**A. Load dataset dalam format CSV tersebut dan plot data target vektor sebagai sumbu y dan matriks *feature* x (berdimensi 1) sebagai sumbu x**\n",
        "\n",
        "Catatan: yang diplot hanya yang diperlukan. Misalkan untuk kelompok 1, berat ikan (Weight) sebagai target vektor (sumbu y) dan lebar ikan (Width) sebagai matriks *feature* (sumbu x)."
      ]
    },
    {
      "cell_type": "code",
      "execution_count": null,
      "metadata": {
        "colab": {
          "base_uri": "https://localhost:8080/",
          "height": 1000
        },
        "id": "waezQZAubXjW",
        "outputId": "e75cb5cb-4eb1-46b7-8976-809368f5d408"
      },
      "outputs": [
        {
          "output_type": "stream",
          "name": "stdout",
          "text": [
            "Drive already mounted at /content/drive; to attempt to forcibly remount, call drive.mount(\"/content/drive\", force_remount=True).\n"
          ]
        },
        {
          "output_type": "execute_result",
          "data": {
            "text/html": [
              "\n",
              "  <div id=\"df-9078010d-99c3-4d8d-9ed1-5da44cc3f535\">\n",
              "    <div class=\"colab-df-container\">\n",
              "      <div>\n",
              "<style scoped>\n",
              "    .dataframe tbody tr th:only-of-type {\n",
              "        vertical-align: middle;\n",
              "    }\n",
              "\n",
              "    .dataframe tbody tr th {\n",
              "        vertical-align: top;\n",
              "    }\n",
              "\n",
              "    .dataframe thead th {\n",
              "        text-align: right;\n",
              "    }\n",
              "</style>\n",
              "<table border=\"1\" class=\"dataframe\">\n",
              "  <thead>\n",
              "    <tr style=\"text-align: right;\">\n",
              "      <th></th>\n",
              "      <th>Species</th>\n",
              "      <th>Weight</th>\n",
              "      <th>Length1</th>\n",
              "      <th>Length2</th>\n",
              "      <th>Length3</th>\n",
              "      <th>Height</th>\n",
              "      <th>Width</th>\n",
              "    </tr>\n",
              "  </thead>\n",
              "  <tbody>\n",
              "    <tr>\n",
              "      <th>0</th>\n",
              "      <td>Bream</td>\n",
              "      <td>242.0</td>\n",
              "      <td>23.2</td>\n",
              "      <td>25.4</td>\n",
              "      <td>30.0</td>\n",
              "      <td>11.5200</td>\n",
              "      <td>4.0200</td>\n",
              "    </tr>\n",
              "    <tr>\n",
              "      <th>1</th>\n",
              "      <td>Bream</td>\n",
              "      <td>290.0</td>\n",
              "      <td>24.0</td>\n",
              "      <td>26.3</td>\n",
              "      <td>31.2</td>\n",
              "      <td>12.4800</td>\n",
              "      <td>4.3056</td>\n",
              "    </tr>\n",
              "    <tr>\n",
              "      <th>2</th>\n",
              "      <td>Bream</td>\n",
              "      <td>340.0</td>\n",
              "      <td>23.9</td>\n",
              "      <td>26.5</td>\n",
              "      <td>31.1</td>\n",
              "      <td>12.3778</td>\n",
              "      <td>4.6961</td>\n",
              "    </tr>\n",
              "    <tr>\n",
              "      <th>3</th>\n",
              "      <td>Bream</td>\n",
              "      <td>363.0</td>\n",
              "      <td>26.3</td>\n",
              "      <td>29.0</td>\n",
              "      <td>33.5</td>\n",
              "      <td>12.7300</td>\n",
              "      <td>4.4555</td>\n",
              "    </tr>\n",
              "    <tr>\n",
              "      <th>4</th>\n",
              "      <td>Bream</td>\n",
              "      <td>430.0</td>\n",
              "      <td>26.5</td>\n",
              "      <td>29.0</td>\n",
              "      <td>34.0</td>\n",
              "      <td>12.4440</td>\n",
              "      <td>5.1340</td>\n",
              "    </tr>\n",
              "    <tr>\n",
              "      <th>5</th>\n",
              "      <td>Bream</td>\n",
              "      <td>450.0</td>\n",
              "      <td>26.8</td>\n",
              "      <td>29.7</td>\n",
              "      <td>34.7</td>\n",
              "      <td>13.6024</td>\n",
              "      <td>4.9274</td>\n",
              "    </tr>\n",
              "    <tr>\n",
              "      <th>6</th>\n",
              "      <td>Bream</td>\n",
              "      <td>500.0</td>\n",
              "      <td>26.8</td>\n",
              "      <td>29.7</td>\n",
              "      <td>34.5</td>\n",
              "      <td>14.1795</td>\n",
              "      <td>5.2785</td>\n",
              "    </tr>\n",
              "    <tr>\n",
              "      <th>7</th>\n",
              "      <td>Bream</td>\n",
              "      <td>390.0</td>\n",
              "      <td>27.6</td>\n",
              "      <td>30.0</td>\n",
              "      <td>35.0</td>\n",
              "      <td>12.6700</td>\n",
              "      <td>4.6900</td>\n",
              "    </tr>\n",
              "    <tr>\n",
              "      <th>8</th>\n",
              "      <td>Bream</td>\n",
              "      <td>450.0</td>\n",
              "      <td>27.6</td>\n",
              "      <td>30.0</td>\n",
              "      <td>35.1</td>\n",
              "      <td>14.0049</td>\n",
              "      <td>4.8438</td>\n",
              "    </tr>\n",
              "    <tr>\n",
              "      <th>9</th>\n",
              "      <td>Bream</td>\n",
              "      <td>500.0</td>\n",
              "      <td>28.5</td>\n",
              "      <td>30.7</td>\n",
              "      <td>36.2</td>\n",
              "      <td>14.2266</td>\n",
              "      <td>4.9594</td>\n",
              "    </tr>\n",
              "    <tr>\n",
              "      <th>10</th>\n",
              "      <td>Bream</td>\n",
              "      <td>475.0</td>\n",
              "      <td>28.4</td>\n",
              "      <td>31.0</td>\n",
              "      <td>36.2</td>\n",
              "      <td>14.2628</td>\n",
              "      <td>5.1042</td>\n",
              "    </tr>\n",
              "    <tr>\n",
              "      <th>11</th>\n",
              "      <td>Bream</td>\n",
              "      <td>500.0</td>\n",
              "      <td>28.7</td>\n",
              "      <td>31.0</td>\n",
              "      <td>36.2</td>\n",
              "      <td>14.3714</td>\n",
              "      <td>4.8146</td>\n",
              "    </tr>\n",
              "    <tr>\n",
              "      <th>12</th>\n",
              "      <td>Bream</td>\n",
              "      <td>500.0</td>\n",
              "      <td>29.1</td>\n",
              "      <td>31.5</td>\n",
              "      <td>36.4</td>\n",
              "      <td>13.7592</td>\n",
              "      <td>4.3680</td>\n",
              "    </tr>\n",
              "    <tr>\n",
              "      <th>13</th>\n",
              "      <td>Bream</td>\n",
              "      <td>340.0</td>\n",
              "      <td>29.5</td>\n",
              "      <td>32.0</td>\n",
              "      <td>37.3</td>\n",
              "      <td>13.9129</td>\n",
              "      <td>5.0728</td>\n",
              "    </tr>\n",
              "    <tr>\n",
              "      <th>14</th>\n",
              "      <td>Bream</td>\n",
              "      <td>600.0</td>\n",
              "      <td>29.4</td>\n",
              "      <td>32.0</td>\n",
              "      <td>37.2</td>\n",
              "      <td>14.9544</td>\n",
              "      <td>5.1708</td>\n",
              "    </tr>\n",
              "    <tr>\n",
              "      <th>15</th>\n",
              "      <td>Bream</td>\n",
              "      <td>600.0</td>\n",
              "      <td>29.4</td>\n",
              "      <td>32.0</td>\n",
              "      <td>37.2</td>\n",
              "      <td>15.4380</td>\n",
              "      <td>5.5800</td>\n",
              "    </tr>\n",
              "    <tr>\n",
              "      <th>16</th>\n",
              "      <td>Bream</td>\n",
              "      <td>700.0</td>\n",
              "      <td>30.4</td>\n",
              "      <td>33.0</td>\n",
              "      <td>38.3</td>\n",
              "      <td>14.8604</td>\n",
              "      <td>5.2854</td>\n",
              "    </tr>\n",
              "    <tr>\n",
              "      <th>17</th>\n",
              "      <td>Bream</td>\n",
              "      <td>700.0</td>\n",
              "      <td>30.4</td>\n",
              "      <td>33.0</td>\n",
              "      <td>38.5</td>\n",
              "      <td>14.9380</td>\n",
              "      <td>5.1975</td>\n",
              "    </tr>\n",
              "    <tr>\n",
              "      <th>18</th>\n",
              "      <td>Bream</td>\n",
              "      <td>610.0</td>\n",
              "      <td>30.9</td>\n",
              "      <td>33.5</td>\n",
              "      <td>38.6</td>\n",
              "      <td>15.6330</td>\n",
              "      <td>5.1338</td>\n",
              "    </tr>\n",
              "    <tr>\n",
              "      <th>19</th>\n",
              "      <td>Bream</td>\n",
              "      <td>650.0</td>\n",
              "      <td>31.0</td>\n",
              "      <td>33.5</td>\n",
              "      <td>38.7</td>\n",
              "      <td>14.4738</td>\n",
              "      <td>5.7276</td>\n",
              "    </tr>\n",
              "    <tr>\n",
              "      <th>20</th>\n",
              "      <td>Bream</td>\n",
              "      <td>575.0</td>\n",
              "      <td>31.3</td>\n",
              "      <td>34.0</td>\n",
              "      <td>39.5</td>\n",
              "      <td>15.1285</td>\n",
              "      <td>5.5695</td>\n",
              "    </tr>\n",
              "    <tr>\n",
              "      <th>21</th>\n",
              "      <td>Bream</td>\n",
              "      <td>685.0</td>\n",
              "      <td>31.4</td>\n",
              "      <td>34.0</td>\n",
              "      <td>39.2</td>\n",
              "      <td>15.9936</td>\n",
              "      <td>5.3704</td>\n",
              "    </tr>\n",
              "    <tr>\n",
              "      <th>22</th>\n",
              "      <td>Bream</td>\n",
              "      <td>620.0</td>\n",
              "      <td>31.5</td>\n",
              "      <td>34.5</td>\n",
              "      <td>39.7</td>\n",
              "      <td>15.5227</td>\n",
              "      <td>5.2801</td>\n",
              "    </tr>\n",
              "    <tr>\n",
              "      <th>23</th>\n",
              "      <td>Bream</td>\n",
              "      <td>680.0</td>\n",
              "      <td>31.8</td>\n",
              "      <td>35.0</td>\n",
              "      <td>40.6</td>\n",
              "      <td>15.4686</td>\n",
              "      <td>6.1306</td>\n",
              "    </tr>\n",
              "    <tr>\n",
              "      <th>24</th>\n",
              "      <td>Bream</td>\n",
              "      <td>700.0</td>\n",
              "      <td>31.9</td>\n",
              "      <td>35.0</td>\n",
              "      <td>40.5</td>\n",
              "      <td>16.2405</td>\n",
              "      <td>5.5890</td>\n",
              "    </tr>\n",
              "    <tr>\n",
              "      <th>25</th>\n",
              "      <td>Bream</td>\n",
              "      <td>725.0</td>\n",
              "      <td>31.8</td>\n",
              "      <td>35.0</td>\n",
              "      <td>40.9</td>\n",
              "      <td>16.3600</td>\n",
              "      <td>6.0532</td>\n",
              "    </tr>\n",
              "    <tr>\n",
              "      <th>26</th>\n",
              "      <td>Bream</td>\n",
              "      <td>720.0</td>\n",
              "      <td>32.0</td>\n",
              "      <td>35.0</td>\n",
              "      <td>40.6</td>\n",
              "      <td>16.3618</td>\n",
              "      <td>6.0900</td>\n",
              "    </tr>\n",
              "    <tr>\n",
              "      <th>27</th>\n",
              "      <td>Bream</td>\n",
              "      <td>714.0</td>\n",
              "      <td>32.7</td>\n",
              "      <td>36.0</td>\n",
              "      <td>41.5</td>\n",
              "      <td>16.5170</td>\n",
              "      <td>5.8515</td>\n",
              "    </tr>\n",
              "    <tr>\n",
              "      <th>28</th>\n",
              "      <td>Bream</td>\n",
              "      <td>850.0</td>\n",
              "      <td>32.8</td>\n",
              "      <td>36.0</td>\n",
              "      <td>41.6</td>\n",
              "      <td>16.8896</td>\n",
              "      <td>6.1984</td>\n",
              "    </tr>\n",
              "    <tr>\n",
              "      <th>29</th>\n",
              "      <td>Bream</td>\n",
              "      <td>1000.0</td>\n",
              "      <td>33.5</td>\n",
              "      <td>37.0</td>\n",
              "      <td>42.6</td>\n",
              "      <td>18.9570</td>\n",
              "      <td>6.6030</td>\n",
              "    </tr>\n",
              "    <tr>\n",
              "      <th>30</th>\n",
              "      <td>Bream</td>\n",
              "      <td>920.0</td>\n",
              "      <td>35.0</td>\n",
              "      <td>38.5</td>\n",
              "      <td>44.1</td>\n",
              "      <td>18.0369</td>\n",
              "      <td>6.3063</td>\n",
              "    </tr>\n",
              "    <tr>\n",
              "      <th>31</th>\n",
              "      <td>Bream</td>\n",
              "      <td>955.0</td>\n",
              "      <td>35.0</td>\n",
              "      <td>38.5</td>\n",
              "      <td>44.0</td>\n",
              "      <td>18.0840</td>\n",
              "      <td>6.2920</td>\n",
              "    </tr>\n",
              "    <tr>\n",
              "      <th>32</th>\n",
              "      <td>Bream</td>\n",
              "      <td>925.0</td>\n",
              "      <td>36.2</td>\n",
              "      <td>39.5</td>\n",
              "      <td>45.3</td>\n",
              "      <td>18.7542</td>\n",
              "      <td>6.7497</td>\n",
              "    </tr>\n",
              "    <tr>\n",
              "      <th>33</th>\n",
              "      <td>Bream</td>\n",
              "      <td>975.0</td>\n",
              "      <td>37.4</td>\n",
              "      <td>41.0</td>\n",
              "      <td>45.9</td>\n",
              "      <td>18.6354</td>\n",
              "      <td>6.7473</td>\n",
              "    </tr>\n",
              "    <tr>\n",
              "      <th>34</th>\n",
              "      <td>Bream</td>\n",
              "      <td>950.0</td>\n",
              "      <td>38.0</td>\n",
              "      <td>41.0</td>\n",
              "      <td>46.5</td>\n",
              "      <td>17.6235</td>\n",
              "      <td>6.3705</td>\n",
              "    </tr>\n",
              "  </tbody>\n",
              "</table>\n",
              "</div>\n",
              "      <button class=\"colab-df-convert\" onclick=\"convertToInteractive('df-9078010d-99c3-4d8d-9ed1-5da44cc3f535')\"\n",
              "              title=\"Convert this dataframe to an interactive table.\"\n",
              "              style=\"display:none;\">\n",
              "        \n",
              "  <svg xmlns=\"http://www.w3.org/2000/svg\" height=\"24px\"viewBox=\"0 0 24 24\"\n",
              "       width=\"24px\">\n",
              "    <path d=\"M0 0h24v24H0V0z\" fill=\"none\"/>\n",
              "    <path d=\"M18.56 5.44l.94 2.06.94-2.06 2.06-.94-2.06-.94-.94-2.06-.94 2.06-2.06.94zm-11 1L8.5 8.5l.94-2.06 2.06-.94-2.06-.94L8.5 2.5l-.94 2.06-2.06.94zm10 10l.94 2.06.94-2.06 2.06-.94-2.06-.94-.94-2.06-.94 2.06-2.06.94z\"/><path d=\"M17.41 7.96l-1.37-1.37c-.4-.4-.92-.59-1.43-.59-.52 0-1.04.2-1.43.59L10.3 9.45l-7.72 7.72c-.78.78-.78 2.05 0 2.83L4 21.41c.39.39.9.59 1.41.59.51 0 1.02-.2 1.41-.59l7.78-7.78 2.81-2.81c.8-.78.8-2.07 0-2.86zM5.41 20L4 18.59l7.72-7.72 1.47 1.35L5.41 20z\"/>\n",
              "  </svg>\n",
              "      </button>\n",
              "      \n",
              "  <style>\n",
              "    .colab-df-container {\n",
              "      display:flex;\n",
              "      flex-wrap:wrap;\n",
              "      gap: 12px;\n",
              "    }\n",
              "\n",
              "    .colab-df-convert {\n",
              "      background-color: #E8F0FE;\n",
              "      border: none;\n",
              "      border-radius: 50%;\n",
              "      cursor: pointer;\n",
              "      display: none;\n",
              "      fill: #1967D2;\n",
              "      height: 32px;\n",
              "      padding: 0 0 0 0;\n",
              "      width: 32px;\n",
              "    }\n",
              "\n",
              "    .colab-df-convert:hover {\n",
              "      background-color: #E2EBFA;\n",
              "      box-shadow: 0px 1px 2px rgba(60, 64, 67, 0.3), 0px 1px 3px 1px rgba(60, 64, 67, 0.15);\n",
              "      fill: #174EA6;\n",
              "    }\n",
              "\n",
              "    [theme=dark] .colab-df-convert {\n",
              "      background-color: #3B4455;\n",
              "      fill: #D2E3FC;\n",
              "    }\n",
              "\n",
              "    [theme=dark] .colab-df-convert:hover {\n",
              "      background-color: #434B5C;\n",
              "      box-shadow: 0px 1px 3px 1px rgba(0, 0, 0, 0.15);\n",
              "      filter: drop-shadow(0px 1px 2px rgba(0, 0, 0, 0.3));\n",
              "      fill: #FFFFFF;\n",
              "    }\n",
              "  </style>\n",
              "\n",
              "      <script>\n",
              "        const buttonEl =\n",
              "          document.querySelector('#df-9078010d-99c3-4d8d-9ed1-5da44cc3f535 button.colab-df-convert');\n",
              "        buttonEl.style.display =\n",
              "          google.colab.kernel.accessAllowed ? 'block' : 'none';\n",
              "\n",
              "        async function convertToInteractive(key) {\n",
              "          const element = document.querySelector('#df-9078010d-99c3-4d8d-9ed1-5da44cc3f535');\n",
              "          const dataTable =\n",
              "            await google.colab.kernel.invokeFunction('convertToInteractive',\n",
              "                                                     [key], {});\n",
              "          if (!dataTable) return;\n",
              "\n",
              "          const docLinkHtml = 'Like what you see? Visit the ' +\n",
              "            '<a target=\"_blank\" href=https://colab.research.google.com/notebooks/data_table.ipynb>data table notebook</a>'\n",
              "            + ' to learn more about interactive tables.';\n",
              "          element.innerHTML = '';\n",
              "          dataTable['output_type'] = 'display_data';\n",
              "          await google.colab.output.renderOutput(dataTable, element);\n",
              "          const docLink = document.createElement('div');\n",
              "          docLink.innerHTML = docLinkHtml;\n",
              "          element.appendChild(docLink);\n",
              "        }\n",
              "      </script>\n",
              "    </div>\n",
              "  </div>\n",
              "  "
            ],
            "text/plain": [
              "   Species  Weight  Length1  Length2  Length3   Height   Width\n",
              "0    Bream   242.0     23.2     25.4     30.0  11.5200  4.0200\n",
              "1    Bream   290.0     24.0     26.3     31.2  12.4800  4.3056\n",
              "2    Bream   340.0     23.9     26.5     31.1  12.3778  4.6961\n",
              "3    Bream   363.0     26.3     29.0     33.5  12.7300  4.4555\n",
              "4    Bream   430.0     26.5     29.0     34.0  12.4440  5.1340\n",
              "5    Bream   450.0     26.8     29.7     34.7  13.6024  4.9274\n",
              "6    Bream   500.0     26.8     29.7     34.5  14.1795  5.2785\n",
              "7    Bream   390.0     27.6     30.0     35.0  12.6700  4.6900\n",
              "8    Bream   450.0     27.6     30.0     35.1  14.0049  4.8438\n",
              "9    Bream   500.0     28.5     30.7     36.2  14.2266  4.9594\n",
              "10   Bream   475.0     28.4     31.0     36.2  14.2628  5.1042\n",
              "11   Bream   500.0     28.7     31.0     36.2  14.3714  4.8146\n",
              "12   Bream   500.0     29.1     31.5     36.4  13.7592  4.3680\n",
              "13   Bream   340.0     29.5     32.0     37.3  13.9129  5.0728\n",
              "14   Bream   600.0     29.4     32.0     37.2  14.9544  5.1708\n",
              "15   Bream   600.0     29.4     32.0     37.2  15.4380  5.5800\n",
              "16   Bream   700.0     30.4     33.0     38.3  14.8604  5.2854\n",
              "17   Bream   700.0     30.4     33.0     38.5  14.9380  5.1975\n",
              "18   Bream   610.0     30.9     33.5     38.6  15.6330  5.1338\n",
              "19   Bream   650.0     31.0     33.5     38.7  14.4738  5.7276\n",
              "20   Bream   575.0     31.3     34.0     39.5  15.1285  5.5695\n",
              "21   Bream   685.0     31.4     34.0     39.2  15.9936  5.3704\n",
              "22   Bream   620.0     31.5     34.5     39.7  15.5227  5.2801\n",
              "23   Bream   680.0     31.8     35.0     40.6  15.4686  6.1306\n",
              "24   Bream   700.0     31.9     35.0     40.5  16.2405  5.5890\n",
              "25   Bream   725.0     31.8     35.0     40.9  16.3600  6.0532\n",
              "26   Bream   720.0     32.0     35.0     40.6  16.3618  6.0900\n",
              "27   Bream   714.0     32.7     36.0     41.5  16.5170  5.8515\n",
              "28   Bream   850.0     32.8     36.0     41.6  16.8896  6.1984\n",
              "29   Bream  1000.0     33.5     37.0     42.6  18.9570  6.6030\n",
              "30   Bream   920.0     35.0     38.5     44.1  18.0369  6.3063\n",
              "31   Bream   955.0     35.0     38.5     44.0  18.0840  6.2920\n",
              "32   Bream   925.0     36.2     39.5     45.3  18.7542  6.7497\n",
              "33   Bream   975.0     37.4     41.0     45.9  18.6354  6.7473\n",
              "34   Bream   950.0     38.0     41.0     46.5  17.6235  6.3705"
            ]
          },
          "metadata": {},
          "execution_count": 126
        }
      ],
      "source": [
        "# kode untuk poin A di sini\n",
        "import pandas as pd\n",
        "import numpy as np\n",
        "import matplotlib.pyplot as plt\n",
        "\n",
        "from google.colab import drive\n",
        "drive.mount('/content/drive')\n",
        "\n",
        "\n",
        "fish = pd.read_csv('drive/MyDrive/dataset/Fish.csv')\n",
        "\n",
        "#Kelompok123\n",
        "#ds123 = fish\n",
        "#ds123\n",
        "\n",
        "#Kelompok4\n",
        "#ds4 = fish.loc[fish.Species == 'Perch'] #MENGAMBIL HANYA DATA JENIS IKAN PERCH\n",
        "#ds4\n",
        "\n",
        "#Kelompok5\n",
        "ds5 = fish.loc[fish.Species == 'Bream'] #MENGAMBIL HANYA DATA JENIS IKAN BREAM\n",
        "ds5\n",
        "\n"
      ]
    },
    {
      "cell_type": "markdown",
      "metadata": {
        "id": "TRpVhoZPbXjY"
      },
      "source": [
        "**B. Atur data ke dalam matriks feature X dan target vektor y dimana data sesuai dengan kelompok masing-masing**\n",
        "\n",
        "Catatan: Pengaturan ini dilakukan supaya bisa digunakan pada soal C (sesuai format data `Scikit Learn`)"
      ]
    },
    {
      "cell_type": "code",
      "execution_count": null,
      "metadata": {
        "colab": {
          "base_uri": "https://localhost:8080/",
          "height": 314
        },
        "id": "W8Qo0Fz1bXjZ",
        "outputId": "8fdf999e-7a96-4701-c1cd-970b22d413be"
      },
      "outputs": [
        {
          "output_type": "stream",
          "name": "stdout",
          "text": [
            "nilai minimum feature = 25.4\n",
            "nilai minimum feature = 41.0\n"
          ]
        },
        {
          "output_type": "display_data",
          "data": {
            "image/png": "[encoded data removed]",
            "text/plain": [
              "<Figure size 432x288 with 1 Axes>"
            ]
          },
          "metadata": {
            "needs_background": "light"
          }
        }
      ],
      "source": [
        "# kode poin B di sini\n",
        "def kelompok1():\n",
        "  #Kelompok1\n",
        "  X = ds123['Width'].to_numpy()\n",
        "  y = ds123['Weight'].to_numpy()\n",
        "  xmin = X.min()\n",
        "  xmax = X.max()\n",
        "  print(\"nilai minimum feature =\",X.min())\n",
        "  print(\"nilai minimum feature =\",X.max())\n",
        "\n",
        "  nX = X[:,np.newaxis]\n",
        "  ny = y[:,np.newaxis]\n",
        "\n",
        "  plt.plot(nX,ny,'b.')\n",
        "  plt.ylabel('Weight')\n",
        "  plt.xlabel('Width')\n",
        "  plt.show()\n",
        "\n",
        "\n",
        "def kelompok3():\n",
        "  #Kelompok3\n",
        "  X = ds123['Weight'].to_numpy()\n",
        "  y = ds123['Length3'].to_numpy()\n",
        "  xmin = X.min()\n",
        "  xmax = X.max()\n",
        "  print(\"nilai minimum feature =\",X.min())\n",
        "  print(\"nilai minimum feature =\",X.max())\n",
        "\n",
        "  nX3 = X[:,np.newaxis]\n",
        "  ny3 = y[:,np.newaxis]\n",
        "\n",
        "  plt.plot(nX3,ny3 ,'b.')\n",
        "  plt.ylabel('Length3')\n",
        "  plt.xlabel('Weight')\n",
        "  plt.show()\n",
        "\n",
        "def kelompok4():\n",
        "  #Kelompok4\n",
        "  X = ds4['Length1'].to_numpy()\n",
        "  y = ds4['Weight'].to_numpy()\n",
        "  xmin = X.min()\n",
        "  xmax = X.max()\n",
        "  print(\"nilai minimum feature =\",X.min())\n",
        "  print(\"nilai minimum feature =\",X.max())\n",
        "\n",
        "  nX4 = X[:,np.newaxis]\n",
        "  ny4 = y[:,np.newaxis]\n",
        "\n",
        "  plt.plot(nX4,ny4,'b.')\n",
        "  plt.ylabel('Weight')\n",
        "  plt.xlabel('Length1')\n",
        "  plt.show()\n",
        "\n",
        "\n",
        "def Kelompok2():\n",
        "  #Kelompok2\n",
        "  X = ds123['Length2'].to_numpy()\n",
        "  y = ds123['Weight'].to_numpy()\n",
        "  xmin = X.min()\n",
        "  xmax = X.max()\n",
        "  print(\"nilai minimum feature =\",X.min())\n",
        "  print(\"nilai minimum feature =\",X.max())\n",
        "\n",
        "  nX2 = X[:,np.newaxis]\n",
        "  ny2 = y[:,np.newaxis]\n",
        "\n",
        "  plt.plot(nX2,ny2,'b.')\n",
        "  plt.ylabel('Weight')\n",
        "  plt.xlabel('Length2')\n",
        "  plt.show()\n",
        "\n",
        "\n",
        "#Kelompok5\n",
        "X = ds5['Length2'].to_numpy()\n",
        "y = ds5['Weight'].to_numpy()\n",
        "xmin = X.min()\n",
        "xmax = X.max()\n",
        "print(\"nilai minimum feature =\",X.min())\n",
        "print(\"nilai minimum feature =\",X.max())\n",
        "\n",
        "nX5 = X[:,np.newaxis]\n",
        "ny5 = y[:,np.newaxis]\n",
        "\n",
        "plt.plot(nX5,ny5,'b.')\n",
        "plt.ylabel('Weight')\n",
        "plt.xlabel('Length2')\n",
        "plt.show()"
      ]
    },
    {
      "cell_type": "markdown",
      "metadata": {
        "id": "a4ACLY6xbXja"
      },
      "source": [
        "**C. Memilih Model Class, dan Penentuan Hyperparameter (jika ada)**\n",
        "\n",
        "Catatan:\n",
        "- Dengan melihat plotting data pada poin A, maka pastikan berapa orde polinomial yang ingin anda gunakan (belum tentu garis lurus). Lihat lecture note **Chapter 2**.\n",
        "- Jika memungkinkan pilihlah orde polinomial dengan metode pemilihan model terbaik seperti pada lecture note **Chapter 3**, bagian **4. Memilih Model Terbaik**."
      ]
    },
    {
      "cell_type": "code",
      "execution_count": null,
      "metadata": {
        "id": "GfP-fqVLbXja"
      },
      "outputs": [],
      "source": [
        "# kode poin C di sini\n",
        "\n",
        "#KELOMPOK 1 2 3 4 5 bisa LINEAR atau POLYNOIMOAL\n",
        "from sklearn.preprocessing import PolynomialFeatures\n",
        "from sklearn.linear_model import LinearRegression\n",
        "from sklearn.pipeline import make_pipeline\n",
        "#pf= PolynomialFeatures(degree = 2,include_bias = False)\n",
        "\n",
        "def PolynomialRegression(degree=2, **kwargs):\n",
        "    return make_pipeline(PolynomialFeatures(degree),\n",
        "                        LinearRegression(**kwargs))\n"
      ]
    },
    {
      "cell_type": "markdown",
      "metadata": {
        "id": "lvFbPfcdbXjb"
      },
      "source": [
        "**D. Melakukan *fitting* model terhadap data (training)**\n",
        "\n",
        "Catatan: Setelah memilih model class, gunakan model tersebut untuk melakukan training dengan data dari poin B."
      ]
    },
    {
      "cell_type": "code",
      "execution_count": null,
      "metadata": {
        "id": "Xwply8eubXjb"
      },
      "outputs": [],
      "source": [
        "# kode poin D di sini\n",
        "\n",
        "#FITTING DILAKUKAN BERSAMAAN DENGAN PREDICTION"
      ]
    },
    {
      "cell_type": "markdown",
      "metadata": {
        "id": "LTmWKZJsbXjc"
      },
      "source": [
        "**E. Memprediksi data baru**"
      ]
    },
    {
      "cell_type": "markdown",
      "metadata": {
        "id": "-fMoziMQbXjc"
      },
      "source": [
        "Catatan: Buat data baru (harga-harga feature) dengan range dari harga minimum ke harga maksimum feature yang anda gunakan pada data poin B (matriks feature X), misalkan dengan `linspace()` dari `Numpy`. Kemudian prediksi harga-harga target (y) berdasarkan harga feature tersebut. Selanjutnya anda ploting data training dengan data hasil prediksi pada langkah ini. (lihat **Chapter 3**)"
      ]
    },
    {
      "cell_type": "code",
      "execution_count": null,
      "metadata": {
        "colab": {
          "base_uri": "https://localhost:8080/",
          "height": 279
        },
        "id": "O2ov4nPAbXjc",
        "outputId": "96a68b26-b494-4912-ebe4-8f2776a2dab2"
      },
      "outputs": [
        {
          "output_type": "display_data",
          "data": {
            "image/png": "[encoded data removed]",
            "text/plain": [
              "<Figure size 432x288 with 1 Axes>"
            ]
          },
          "metadata": {
            "needs_background": "light"
          }
        }
      ],
      "source": [
        "# kode poin E di sini\n",
        "\n",
        "\n",
        "\n",
        "#membangkitkan data baru\n",
        "x_new2 = np.linspace(xmin,xmax)\n",
        "xnew22 = x_new2[:,np.newaxis]\n",
        "\n",
        "#Fitting dan Predict and plot LINEAR atau POLYNOIMOAL\n",
        "ypredict = PolynomialRegression(1).fit(nX5,ny5).predict(xnew22)\n",
        "\n",
        "plt.plot(nX5,ny5,\"b.\",label=\"train nX5,ny5\")\n",
        "plt.plot(xnew22,ypredict,'r-', label = 'prediction')\n",
        "plt.legend(loc='best');\n",
        "plt.ylabel(\"Weight\")\n",
        "plt.xlabel(\"Width\")\n",
        "plt.show()\n"
      ]
    },
    {
      "cell_type": "markdown",
      "metadata": {
        "id": "58O_1A9hbXjd"
      },
      "source": [
        "**Kesimpulan**. Berikan kesimpulan model apa yang akan anda rekomendasikan kepada Joko setelah anda mengikuti langkah A-E (sesuai dengan kelompok masing-masing).\n",
        "\n",
        "**Jawab :**\n",
        "Setelah melakukan suatu prediksi. Kami merekomendasikan joko menggunakan Regresi Linier, karena dapat diketahui bahwa model Regresi Linier orde N dapat memodelkan dan memprediksi suatu data yang diberikan oleh joko dengan baik.\n"
      ]
    },
    {
      "cell_type": "markdown",
      "metadata": {
        "id": "BTKYcWcVbXjd"
      },
      "source": [
        "## **2. Klasifikasi dengan Regresi Logistik** dan Stochastic Gradient Descent (SGD)"
      ]
    },
    {
      "cell_type": "markdown",
      "metadata": {
        "id": "PpvsIUWtbXjd"
      },
      "source": [
        "Berlanjut dengan cerita Joko. Selain ingin memprediksi berat atau panjang ikan, Joko juga tertarik untuk melakukan klasifikasi apakah ikan tertentu termasuk ikan Gurame atau Ikan Mujair. Kemudian dia memutuskan, klasifikasi adalah berdasarkan *feature* berat dan juga panjang. Hasil pengumpulan data Joko dapat dilihat pada link berikut ini: [**Data Ikan 2**](https://drive.google.com/file/d/1DBlEemGWKSaLb4X6W7PLDpccWCFF3VnD/view?usp=sharing).\n",
        "\n",
        "Pada data tersebut, kolom pertama menyatakan berat ikan (dalam gram), kolom kedua menyatakan panjang ikan (dalam cm) dan kolom ketiga menyatakan jenis ikan, dimana ikan Gurame dikodekan dengan angka 1, sedangkan ikan Mujair dikodekan dengan angka 0. Karena Joko sudah sedikit paham menyangkut *Machine Learning*, dia meminta anda untuk menggunakan Metode Regresi Logistik dan SGD dalam melakukan klasifikasi, untuk kemudian membandingkannya."
      ]
    },
    {
      "cell_type": "markdown",
      "metadata": {
        "id": "zbhHOpH6bXje"
      },
      "source": [
        "#### **2.1. Berikut adalah langkah-langkah solusi Regresi Logistik yang anda gunakan untuk membantu Joko melakukan klasifikasi jenis ikan Gurame atau Ikan Mujair**"
      ]
    },
    {
      "cell_type": "markdown",
      "metadata": {
        "id": "8WP-e6drbXje"
      },
      "source": [
        "* Copy dataset yang ada pada link di atas ke dalam direktori lokal masing-masing (untuk memudahkan tempatkan pada folder yang sama dengan file Tugas Besar anda).\n",
        "* Setiap kelompok menggunakan dataset yang sama\n",
        "\n",
        "\n",
        "**A. Load dataset dalam format CSV tersebut**\n",
        "\n",
        "* Anda bisa menggunakan package `Pandas` maupun `Numpy`."
      ]
    },
    {
      "cell_type": "code",
      "execution_count": null,
      "metadata": {
        "colab": {
          "base_uri": "https://localhost:8080/",
          "height": 423
        },
        "id": "9fPOsf7CbXje",
        "outputId": "2a412e37-5773-44bb-9f71-8a754f131a4b"
      },
      "outputs": [
        {
          "output_type": "execute_result",
          "data": {
            "text/html": [
              "\n",
              "  <div id=\"df-8619dfeb-5a2f-4b76-8a75-e008ac6efc9c\">\n",
              "    <div class=\"colab-df-container\">\n",
              "      <div>\n",
              "<style scoped>\n",
              "    .dataframe tbody tr th:only-of-type {\n",
              "        vertical-align: middle;\n",
              "    }\n",
              "\n",
              "    .dataframe tbody tr th {\n",
              "        vertical-align: top;\n",
              "    }\n",
              "\n",
              "    .dataframe thead th {\n",
              "        text-align: right;\n",
              "    }\n",
              "</style>\n",
              "<table border=\"1\" class=\"dataframe\">\n",
              "  <thead>\n",
              "    <tr style=\"text-align: right;\">\n",
              "      <th></th>\n",
              "      <th>242</th>\n",
              "      <th>30</th>\n",
              "      <th>1</th>\n",
              "    </tr>\n",
              "  </thead>\n",
              "  <tbody>\n",
              "    <tr>\n",
              "      <th>0</th>\n",
              "      <td>290.0</td>\n",
              "      <td>31.2</td>\n",
              "      <td>1</td>\n",
              "    </tr>\n",
              "    <tr>\n",
              "      <th>1</th>\n",
              "      <td>340.0</td>\n",
              "      <td>31.1</td>\n",
              "      <td>1</td>\n",
              "    </tr>\n",
              "    <tr>\n",
              "      <th>2</th>\n",
              "      <td>363.0</td>\n",
              "      <td>33.5</td>\n",
              "      <td>1</td>\n",
              "    </tr>\n",
              "    <tr>\n",
              "      <th>3</th>\n",
              "      <td>430.0</td>\n",
              "      <td>34.0</td>\n",
              "      <td>1</td>\n",
              "    </tr>\n",
              "    <tr>\n",
              "      <th>4</th>\n",
              "      <td>450.0</td>\n",
              "      <td>34.7</td>\n",
              "      <td>1</td>\n",
              "    </tr>\n",
              "    <tr>\n",
              "      <th>...</th>\n",
              "      <td>...</td>\n",
              "      <td>...</td>\n",
              "      <td>...</td>\n",
              "    </tr>\n",
              "    <tr>\n",
              "      <th>152</th>\n",
              "      <td>12.2</td>\n",
              "      <td>13.4</td>\n",
              "      <td>0</td>\n",
              "    </tr>\n",
              "    <tr>\n",
              "      <th>153</th>\n",
              "      <td>13.4</td>\n",
              "      <td>13.5</td>\n",
              "      <td>0</td>\n",
              "    </tr>\n",
              "    <tr>\n",
              "      <th>154</th>\n",
              "      <td>12.2</td>\n",
              "      <td>13.8</td>\n",
              "      <td>0</td>\n",
              "    </tr>\n",
              "    <tr>\n",
              "      <th>155</th>\n",
              "      <td>19.7</td>\n",
              "      <td>15.2</td>\n",
              "      <td>0</td>\n",
              "    </tr>\n",
              "    <tr>\n",
              "      <th>156</th>\n",
              "      <td>19.9</td>\n",
              "      <td>16.2</td>\n",
              "      <td>0</td>\n",
              "    </tr>\n",
              "  </tbody>\n",
              "</table>\n",
              "<p>157 rows × 3 columns</p>\n",
              "</div>\n",
              "      <button class=\"colab-df-convert\" onclick=\"convertToInteractive('df-8619dfeb-5a2f-4b76-8a75-e008ac6efc9c')\"\n",
              "              title=\"Convert this dataframe to an interactive table.\"\n",
              "              style=\"display:none;\">\n",
              "        \n",
              "  <svg xmlns=\"http://www.w3.org/2000/svg\" height=\"24px\"viewBox=\"0 0 24 24\"\n",
              "       width=\"24px\">\n",
              "    <path d=\"M0 0h24v24H0V0z\" fill=\"none\"/>\n",
              "    <path d=\"M18.56 5.44l.94 2.06.94-2.06 2.06-.94-2.06-.94-.94-2.06-.94 2.06-2.06.94zm-11 1L8.5 8.5l.94-2.06 2.06-.94-2.06-.94L8.5 2.5l-.94 2.06-2.06.94zm10 10l.94 2.06.94-2.06 2.06-.94-2.06-.94-.94-2.06-.94 2.06-2.06.94z\"/><path d=\"M17.41 7.96l-1.37-1.37c-.4-.4-.92-.59-1.43-.59-.52 0-1.04.2-1.43.59L10.3 9.45l-7.72 7.72c-.78.78-.78 2.05 0 2.83L4 21.41c.39.39.9.59 1.41.59.51 0 1.02-.2 1.41-.59l7.78-7.78 2.81-2.81c.8-.78.8-2.07 0-2.86zM5.41 20L4 18.59l7.72-7.72 1.47 1.35L5.41 20z\"/>\n",
              "  </svg>\n",
              "      </button>\n",
              "      \n",
              "  <style>\n",
              "    .colab-df-container {\n",
              "      display:flex;\n",
              "      flex-wrap:wrap;\n",
              "      gap: 12px;\n",
              "    }\n",
              "\n",
              "    .colab-df-convert {\n",
              "      background-color: #E8F0FE;\n",
              "      border: none;\n",
              "      border-radius: 50%;\n",
              "      cursor: pointer;\n",
              "      display: none;\n",
              "      fill: #1967D2;\n",
              "      height: 32px;\n",
              "      padding: 0 0 0 0;\n",
              "      width: 32px;\n",
              "    }\n",
              "\n",
              "    .colab-df-convert:hover {\n",
              "      background-color: #E2EBFA;\n",
              "      box-shadow: 0px 1px 2px rgba(60, 64, 67, 0.3), 0px 1px 3px 1px rgba(60, 64, 67, 0.15);\n",
              "      fill: #174EA6;\n",
              "    }\n",
              "\n",
              "    [theme=dark] .colab-df-convert {\n",
              "      background-color: #3B4455;\n",
              "      fill: #D2E3FC;\n",
              "    }\n",
              "\n",
              "    [theme=dark] .colab-df-convert:hover {\n",
              "      background-color: #434B5C;\n",
              "      box-shadow: 0px 1px 3px 1px rgba(0, 0, 0, 0.15);\n",
              "      filter: drop-shadow(0px 1px 2px rgba(0, 0, 0, 0.3));\n",
              "      fill: #FFFFFF;\n",
              "    }\n",
              "  </style>\n",
              "\n",
              "      <script>\n",
              "        const buttonEl =\n",
              "          document.querySelector('#df-8619dfeb-5a2f-4b76-8a75-e008ac6efc9c button.colab-df-convert');\n",
              "        buttonEl.style.display =\n",
              "          google.colab.kernel.accessAllowed ? 'block' : 'none';\n",
              "\n",
              "        async function convertToInteractive(key) {\n",
              "          const element = document.querySelector('#df-8619dfeb-5a2f-4b76-8a75-e008ac6efc9c');\n",
              "          const dataTable =\n",
              "            await google.colab.kernel.invokeFunction('convertToInteractive',\n",
              "                                                     [key], {});\n",
              "          if (!dataTable) return;\n",
              "\n",
              "          const docLinkHtml = 'Like what you see? Visit the ' +\n",
              "            '<a target=\"_blank\" href=https://colab.research.google.com/notebooks/data_table.ipynb>data table notebook</a>'\n",
              "            + ' to learn more about interactive tables.';\n",
              "          element.innerHTML = '';\n",
              "          dataTable['output_type'] = 'display_data';\n",
              "          await google.colab.output.renderOutput(dataTable, element);\n",
              "          const docLink = document.createElement('div');\n",
              "          docLink.innerHTML = docLinkHtml;\n",
              "          element.appendChild(docLink);\n",
              "        }\n",
              "      </script>\n",
              "    </div>\n",
              "  </div>\n",
              "  "
            ],
            "text/plain": [
              "       242    30  1\n",
              "0    290.0  31.2  1\n",
              "1    340.0  31.1  1\n",
              "2    363.0  33.5  1\n",
              "3    430.0  34.0  1\n",
              "4    450.0  34.7  1\n",
              "..     ...   ... ..\n",
              "152   12.2  13.4  0\n",
              "153   13.4  13.5  0\n",
              "154   12.2  13.8  0\n",
              "155   19.7  15.2  0\n",
              "156   19.9  16.2  0\n",
              "\n",
              "[157 rows x 3 columns]"
            ]
          },
          "metadata": {},
          "execution_count": 146
        }
      ],
      "source": [
        "# Kode poin A di sini\n",
        "import pandas as pd\n",
        "import numpy as np\n",
        "\n",
        "ds2 = pd.read_csv('drive/MyDrive/dataset/IkanIndo01.csv')\n",
        "ds2\n"
      ]
    },
    {
      "cell_type": "markdown",
      "metadata": {
        "id": "wj9xPHnhbXjf"
      },
      "source": [
        "**B. Atur data ke dalam matriks feature X dan target vektor y, kemudian plot data dalam dua dimensi**\n",
        "\n",
        "Catatan: sumbu x --> Feature 1 (berat ikan), sumbu y --> Feature 2 (panjang ikan), untuk *class* ikan Gurame (1) gunakan *square* warna biru (`'bs'`) dan untuk *class* ikan Mujair (0) gunakan *circle* warna hijau (`'ho'`). Sebagai contoh anda bisa lihat di **Chapter 2**.   "
      ]
    },
    {
      "cell_type": "code",
      "execution_count": null,
      "metadata": {
        "colab": {
          "base_uri": "https://localhost:8080/"
        },
        "id": "gbFOOd-FbXjf",
        "outputId": "708172a1-575d-436c-8d8a-dce009a6af73"
      },
      "outputs": [
        {
          "output_type": "stream",
          "name": "stdout",
          "text": [
            "Ikan Gurame\n",
            "      Berat  Panjang\n",
            "0    290.0     31.2\n",
            "1    340.0     31.1\n",
            "2    363.0     33.5\n",
            "3    430.0     34.0\n",
            "4    450.0     34.7\n",
            "..     ...      ...\n",
            "67   950.0     55.1\n",
            "68  1250.0     59.7\n",
            "69  1600.0     64.0\n",
            "70  1550.0     64.0\n",
            "71  1650.0     68.0\n",
            "\n",
            "[72 rows x 2 columns]\n",
            "----------------------------------------\n",
            "Ikan Mujair\n",
            "      Berat  Panjang\n",
            "72    40.0     16.2\n",
            "73    69.0     20.3\n",
            "74    78.0     21.2\n",
            "75    87.0     22.2\n",
            "76   120.0     22.2\n",
            "..     ...      ...\n",
            "152   12.2     13.4\n",
            "153   13.4     13.5\n",
            "154   12.2     13.8\n",
            "155   19.7     15.2\n",
            "156   19.9     16.2\n",
            "\n",
            "[85 rows x 2 columns]\n"
          ]
        }
      ],
      "source": [
        "# Kode poin B di sini\n",
        "\n",
        "\n",
        "df_guram = ds2[ds2['1']==1].drop('1',axis=1)\n",
        "df_mujai = ds2[ds2['1']==0].drop('1',axis=1)\n",
        "\n",
        "df_gurame = pd.DataFrame()\n",
        "df_gurame[\"Berat\"] = df_guram['242']\n",
        "df_gurame[\"Panjang\"] = df_guram['30']\n",
        "\n",
        "df_mujair = pd.DataFrame()\n",
        "df_mujair[\"Berat\"] = df_mujai['242']\n",
        "df_mujair[\"Panjang\"] = df_mujai['30']\n",
        "\n",
        "\n",
        "print('Ikan Gurame\\n', df_gurame)\n",
        "print('-----'*8)\n",
        "print('Ikan Mujair\\n', df_mujair)\n"
      ]
    },
    {
      "cell_type": "code",
      "source": [
        "x_g = df_gurame[['Berat']].to_numpy()\n",
        "y_g = df_gurame[['Panjang']].to_numpy()\n",
        "\n",
        "x_m = df_mujair[['Berat']].to_numpy()\n",
        "y_m = df_mujair[['Panjang']].to_numpy()\n",
        "\n",
        "plt.plot(x_g, y_g, 'bs', label=\"Ikan Gurame\")\n",
        "plt.plot(x_m, y_m, 'go', label=\"Ikan Mujair\")\n",
        "plt.xlabel('Berat')\n",
        "plt.ylabel('Panjang')\n",
        "plt.legend(loc = \"upper left\")\n",
        "plt.show()\n",
        "\n"
      ],
      "metadata": {
        "colab": {
          "base_uri": "https://localhost:8080/",
          "height": 280
        },
        "id": "Xh9u0X49Kmq0",
        "outputId": "708456c8-0a76-489c-d095-7a675bc0f9e5"
      },
      "execution_count": null,
      "outputs": [
        {
          "output_type": "display_data",
          "data": {
            "image/png": "[encoded data removed]",
            "text/plain": [
              "<Figure size 432x288 with 1 Axes>"
            ]
          },
          "metadata": {
            "needs_background": "light"
          }
        }
      ]
    },
    {
      "cell_type": "markdown",
      "metadata": {
        "id": "P0nrYs7cbXjg"
      },
      "source": [
        "**C. Memilih Model Class, dan Penentuan Hyperparameter (jika ada)**\n",
        "\n",
        "Catatan:\n",
        "- Gunakan model Regresi Logistik"
      ]
    },
    {
      "cell_type": "code",
      "execution_count": null,
      "metadata": {
        "id": "U1mkCkLKbXjg"
      },
      "outputs": [],
      "source": [
        "# Kode poin C di sini\n",
        "from sklearn.linear_model import LogisticRegression\n",
        "log_reg = LogisticRegression()\n",
        "\n",
        "\n"
      ]
    },
    {
      "cell_type": "markdown",
      "metadata": {
        "id": "RhM39qQebXjg"
      },
      "source": [
        "**D. Melakukan *fitting* model terhadap data (training)**\n",
        "\n",
        "Catatan: Setelah memilih model class, gunakan model tersebut untuk melakukan training dengan data dari poin B."
      ]
    },
    {
      "cell_type": "code",
      "execution_count": null,
      "metadata": {
        "colab": {
          "base_uri": "https://localhost:8080/"
        },
        "id": "aESyZWVqbXjg",
        "outputId": "e7119081-b91b-4e9a-c99c-77fa873a3a48"
      },
      "outputs": [
        {
          "output_type": "execute_result",
          "data": {
            "text/plain": [
              "LogisticRegression()"
            ]
          },
          "metadata": {},
          "execution_count": 178
        }
      ],
      "source": [
        "# Kode poin D di sini\n",
        "x = ds2.iloc[:,:-1]\n",
        "y = ds2.iloc[:,-1]\n",
        "log_reg.fit(x,y)\n"
      ]
    },
    {
      "cell_type": "markdown",
      "metadata": {
        "id": "4qEvtKR7bXjh"
      },
      "source": [
        "**E. Memprediksi data baru**"
      ]
    },
    {
      "cell_type": "markdown",
      "metadata": {
        "id": "hwaZPHc-bXjh"
      },
      "source": [
        "Jika terdapat dua ekor ikan, dimana ikan 1 dengan berat = 200 gram dan panjang = 30 cm, sedangkan ikan 2 berat = 600 gram dan panjang = 40 cm. Tentukan jenis kedua ikan tersebut apakah ikan Gurame atau Mujaer berdasarkan model anda."
      ]
    },
    {
      "cell_type": "code",
      "execution_count": null,
      "metadata": {
        "colab": {
          "base_uri": "https://localhost:8080/"
        },
        "id": "OmlW_HhdbXjh",
        "outputId": "4b07785f-a00e-4e71-8133-5304b1435a43"
      },
      "outputs": [
        {
          "output_type": "stream",
          "name": "stdout",
          "text": [
            "Prediksi ikan 1 adalah Mujair dan ikan 2 adalah Gurame\n"
          ]
        },
        {
          "output_type": "stream",
          "name": "stderr",
          "text": [
            "/usr/local/lib/python3.7/dist-packages/sklearn/base.py:446: UserWarning: X does not have valid feature names, but LogisticRegression was fitted with feature names\n",
            "  \"X does not have valid feature names, but\"\n",
            "/usr/local/lib/python3.7/dist-packages/sklearn/base.py:446: UserWarning: X does not have valid feature names, but LogisticRegression was fitted with feature names\n",
            "  \"X does not have valid feature names, but\"\n"
          ]
        }
      ],
      "source": [
        "# kode poin E di sini\n",
        "def hasil(a,b):\n",
        "  result = 'Mujair' if log_reg.predict([[a,b]]) == 0 else 'Gurame'\n",
        "  return result\n",
        "\n",
        "print('Prediksi ikan 1 adalah {} dan ikan 2 adalah {}'.format(hasil(200,30),hasil(600,40)))"
      ]
    },
    {
      "cell_type": "markdown",
      "metadata": {
        "id": "Yi-GL5V1bXji"
      },
      "source": [
        "**F. Plotting Batas Keputusan (*Decision Boundary*)**"
      ]
    },
    {
      "cell_type": "markdown",
      "metadata": {
        "id": "O-M4zm5BbXji"
      },
      "source": [
        "Gambar data seperti pada poin B, tetapi tambahkan batas keputusan (berupa garis lurus) yang memisahkan antara data ikan Gurame dan ikan Mujair (lihat **Chapter 2**, bagian **2.3.Contoh Python untuk Regresi Logistik**)"
      ]
    },
    {
      "cell_type": "code",
      "execution_count": null,
      "metadata": {
        "colab": {
          "base_uri": "https://localhost:8080/",
          "height": 280
        },
        "id": "o92amI4vbXji",
        "outputId": "7eed2be7-27fa-4dce-d939-847c8e7f03b9"
      },
      "outputs": [
        {
          "output_type": "display_data",
          "data": {
            "image/png": "[encoded data removed]",
            "text/plain": [
              "<Figure size 432x288 with 1 Axes>"
            ]
          },
          "metadata": {
            "needs_background": "light"
          }
        }
      ],
      "source": [
        "# kode poin F di sini\n",
        "\n",
        "# kode poin F di sini\n",
        "left_right = np.array([70,1750])\n",
        "\n",
        "bound = -(log_reg.coef_[0][0] * left_right + log_reg.intercept_[0]) / log_reg.coef_[0][1]\n",
        "plt.plot(left_right, bound, 'k--', linewidth=3)\n",
        "plt.plot(x_g, y_g, 'bs', label=\"Ikan Gurame\")\n",
        "plt.plot(x_m, y_m, 'go', label=\"Ikan Mujair\")\n",
        "plt.text(1500, 20, 'Mujair', fontsize=14, color = 'g', ha = 'center')\n",
        "plt.text(250, 60, 'Gurame', fontsize=14, color = 'b', ha = 'center')\n",
        "plt.xlabel('Berat')\n",
        "plt.ylabel('Panjang')\n",
        "plt.legend(loc = \"lower center\")\n",
        "plt.show()\n",
        "\n"
      ]
    },
    {
      "cell_type": "markdown",
      "metadata": {
        "id": "hOTqyL5tbXjj"
      },
      "source": [
        "**G. *Cross Validation* dengan 5-Fold**\n",
        "\n",
        "Gunakan metode *cross validation* dengan 5-fold (`cv=5`), dan kemudian tentukan *cross validation score-nya*"
      ]
    },
    {
      "cell_type": "code",
      "execution_count": null,
      "metadata": {
        "colab": {
          "base_uri": "https://localhost:8080/"
        },
        "id": "mjqNikTPbXjj",
        "outputId": "999be186-2c8f-4ec0-ec3e-c7af5c857d76"
      },
      "outputs": [
        {
          "output_type": "stream",
          "name": "stdout",
          "text": [
            "[0.9375     0.84375    0.87096774 1.         1.        ]\n"
          ]
        },
        {
          "output_type": "execute_result",
          "data": {
            "text/plain": [
              "93.04435483870968"
            ]
          },
          "metadata": {},
          "execution_count": 183
        }
      ],
      "source": [
        "# kode poin G di sini\n",
        "from sklearn.model_selection import cross_val_score\n",
        "kel2 = (cross_val_score(log_reg, x, y, cv = 5))\n",
        "print(kel2)\n",
        "kel2.mean()*100"
      ]
    },
    {
      "cell_type": "code",
      "source": [],
      "metadata": {
        "id": "4xCG1k7ZRC2i"
      },
      "execution_count": null,
      "outputs": []
    },
    {
      "cell_type": "markdown",
      "metadata": {
        "id": "097FcPTzbXjj"
      },
      "source": [
        "Apa kesimpulan anda dengan hasil tersebut?<br>\n",
        "\n",
        "**Jawab :** Data dibagi menjadi 5 bagian. Metode ini cukup baik untuk digunakan karena akurasinya yang tinggi. yitu 93.04 %"
      ]
    },
    {
      "cell_type": "markdown",
      "metadata": {
        "id": "H8V4p7sJbXjk"
      },
      "source": [
        "**H. Tentukan *Confusion Matrix*, *Precision* dan *Recall***"
      ]
    },
    {
      "cell_type": "code",
      "execution_count": null,
      "metadata": {
        "colab": {
          "base_uri": "https://localhost:8080/"
        },
        "id": "m9a3BNeJbXjk",
        "outputId": "2baa68fd-7524-4966-c6ab-2242e34f1625"
      },
      "outputs": [
        {
          "output_type": "stream",
          "name": "stdout",
          "text": [
            "Confusion Matrix =\n",
            " [[80  5]\n",
            " [ 4 68]]\n",
            "\n",
            "Precision Score =\n",
            " 93.15068493150685\n",
            "\n",
            "Recall Score =\n",
            " 94.44444444444444\n"
          ]
        }
      ],
      "source": [
        "# kode poin H di sini\n",
        "from sklearn.model_selection import cross_val_predict\n",
        "from sklearn.metrics import confusion_matrix, precision_score, recall_score\n",
        "\n",
        "print('Confusion Matrix =\\n', confusion_matrix(y,cross_val_predict(log_reg, x, y, cv=3)))\n",
        "print('\\nPrecision Score =\\n', (precision_score(y, cross_val_predict(log_reg, x, y, cv=3)))*100)\n",
        "print('\\nRecall Score =\\n', (recall_score(y, cross_val_predict(log_reg, x, y, cv=3)))*100)"
      ]
    },
    {
      "cell_type": "markdown",
      "metadata": {
        "id": "dTa6ZD2BbXjk"
      },
      "source": [
        "Apa kesimpulan anda dengan hasil tersebut?\n",
        "\n",
        "\n",
        "**Jawab :** <br>\n",
        "Hasil dari **Precision score** adalah 0.93150068493150684 / 93% <br>\n",
        "sedangkan **Recall** nya adalah 0.94444444444444444 / 94%"
      ]
    },
    {
      "cell_type": "markdown",
      "metadata": {
        "id": "q9x8ExMzbXjk"
      },
      "source": [
        "#### **2.2. Berikut adalah langkah-langkah solusi *Stochastic Gradient Descent Classifier* yang anda gunakan untuk membantu Joko melakukan klasifikasi jenis ikan Gurame atau Ikan Mujair**"
      ]
    },
    {
      "cell_type": "markdown",
      "metadata": {
        "id": "wt92E0p5bXjk"
      },
      "source": [
        "Catatan:\n",
        "* Gunakan `SGDClassifier` dari model `linear` pada `Scikit-Learn`.\n",
        "* Ikuti langkah langkah seperti pada soal 2.1 dari C s/d H, kecuali nomor F tidak perlu dikerjakan.\n",
        "* Anda bisa menggunakan *scaling* jika dibutuhkan (lihat contoh pada **Chapter 3**, bagian **7. Multiclass Classifier**)"
      ]
    },
    {
      "cell_type": "markdown",
      "metadata": {
        "id": "3js2538ibXjl"
      },
      "source": [
        "Setelah selesai, maka bandingkan hasil *confussion matrix*, *precission* dan *recall* dari metode regresi logistik dan SGD. **Berikan komentar anda**."
      ]
    },
    {
      "cell_type": "markdown",
      "metadata": {
        "id": "Pmkt5kGEbXjl"
      },
      "source": [
        "## 3. Klasifikasi dengan Decision Tree dan Ensamble Learning"
      ]
    },
    {
      "cell_type": "markdown",
      "metadata": {
        "id": "B48hNiy3bXjl"
      },
      "source": [
        "Anda sebagai seorang pegawai baru di sebuah perusahaan yang bergerak di bidang *Data Mining* diberikan tugas untuk melakukan klasifikasi bahwa seseorang terkena Kanker (*cancer*) jinak (*benign*) atau ganas (*malignant*) berdasarkan data set di alamat berikut: [**Data Kanker**](https://scikit-learn.org/stable/modules/generated/sklearn.datasets.load_breast_cancer.html).\n",
        "\n",
        "Berdasarkan dataset tersebut untuk mengklasifikasikan jenis kanker ganas atau jinak, didasarkan pada ukuran tumor, dengan *feature* sebanyak 30. Tetapi, anda hanya diberikan tugas untuk menggunakan 3 *feature* saja, dengan aturan sebagai berikut berdasarkan kelompok:\n",
        "\n",
        "1. Kelompok 1 : gunakan feature 'mean radius', 'mean texture', 'mean perimeter'\n",
        "2. Kelompok 2 : gunakan feature 'mean texture', 'mean perimeter', 'mean area',\n",
        "3. Kelompok 3 : gunakan feature 'mean perimeter', 'mean area', 'mean smoothness'\n",
        "4. Kelompok 4 : gunakan feature 'mean smoothness', 'mean compactness', 'mean concavity',\n",
        "5. Kelompok 5 : gunakan feature 'mean area', 'mean smoothness', 'mean compactness'\n",
        "6. Kelompok 6 : gunakan feature 'mean smoothness', 'mean compactness','mean concave points'\n",
        "7. Kelompok 7 : gunakan feature 'mean compactness','mean concave points', 'mean symmetry'\n",
        "8. Kelompok 8 : gunakan feature 'mean concave points', 'mean symmetry', 'mean fractal dimension'\n",
        "\n",
        "indeks kolom dari setiap *feature* di atas bisa dilihat di link berikut: [nomor kolom](https://scikit-learn.org/stable/datasets/toy_dataset.html#breast-cancer-dataset), yaitu sesuai urutan berikut: radius, texture, perimeter,..., dst.\n",
        "Contoh: indeks kolom 0 untuk 'mean radius', 1 untuk 'mean texture',..., dst\n",
        "\n",
        "*Class* atau target yang digunakan:\n",
        "Target\n",
        "* WDBC-Malignant (ganas) sebanyak 212 data\n",
        "* WDBC-Benign (jinak) sebanyak 357 data"
      ]
    },
    {
      "cell_type": "markdown",
      "metadata": {
        "id": "4U5H4gbxbXjl"
      },
      "source": [
        "Oleh atasan, anda diharuskan dapat menjawab pertanyaan-pertanyaan berikut dengan bukti program yang telah anda buat:\n",
        "\n",
        "1. Dengan *class* `DecisionTreeClassifier` menggunakan *4-fold cross validation*, maka bandingakan *validation score* antara `DecisionTreeClassifier` memakai *gini impurity* dan *entropy impurity*!\n",
        "2. Bandingkan *accuracy score* untuk `DecisionTreeClassifier` **tanpa dan dengan *pasting*** (estimator = 100, max_samples = 100)!\n",
        "3. Perlihatkan *confusion matrix* dari hasil *ensemble learning classification* dari regresi logistik, svm dan *decision tree*, dan hitunglah nilai *precision* dan *recall* masing-masing!\n",
        "\n",
        "Catatan:\n",
        "* Anda dapat mengikuti langkah-langkah seperti pada nomor 1 atau 2 sebelumnya untuk membuat program, atau anda bisa buat sekaligus dalam satu cell.\n",
        "* Referensi yang digunakan adalah ***Chapter 4***."
      ]
    },
    {
      "cell_type": "code",
      "execution_count": null,
      "metadata": {
        "id": "ERXyAHH5bXjl"
      },
      "outputs": [],
      "source": [
        "\n"
      ]
    },
    {
      "cell_type": "code",
      "execution_count": null,
      "metadata": {
        "id": "Ay95yFrQbXjm"
      },
      "outputs": [],
      "source": []
    },
    {
      "cell_type": "code",
      "execution_count": null,
      "metadata": {
        "id": "0lkRw-j2bXjm"
      },
      "outputs": [],
      "source": [
        "\n"
      ]
    },
    {
      "cell_type": "code",
      "execution_count": null,
      "metadata": {
        "id": "46csCzAGbXjm"
      },
      "outputs": [],
      "source": []
    },
    {
      "cell_type": "code",
      "execution_count": null,
      "metadata": {
        "id": "H-FrgILtZIGg"
      },
      "outputs": [],
      "source": []
    },
    {
      "cell_type": "code",
      "execution_count": null,
      "metadata": {
        "id": "fKlWoThJbXjn"
      },
      "outputs": [],
      "source": []
    },
    {
      "cell_type": "code",
      "execution_count": null,
      "metadata": {
        "id": "0Trbzj9wbXjn"
      },
      "outputs": [],
      "source": []
    },
    {
      "cell_type": "code",
      "execution_count": null,
      "metadata": {
        "id": "Il571VmBbXjo"
      },
      "outputs": [],
      "source": []
    },
    {
      "cell_type": "code",
      "execution_count": null,
      "metadata": {
        "id": "62xk2RXPbXjo"
      },
      "outputs": [],
      "source": []
    },
    {
      "cell_type": "markdown",
      "metadata": {
        "id": "2pI5CHbmbXjo"
      },
      "source": []
    },
    {
      "cell_type": "markdown",
      "metadata": {
        "id": "-V0czr4dbXjp"
      },
      "source": [
        "**KESIMPULAN :** <br>\n",
        "\n",
        "1. **Gini impurity** memiliki akurasi 0.9005847953216374 sedangkan **Entropy** memiliki akurasi 0.9181286549707602 <br>\n",
        "2.Akurasi skore **Dengan Pasting** memiliki nilai 0.9156666666666666 sedangkan **Tanpa Pasting** memiliki akurasi skore 0.9113333333333334 <br>\n",
        "3.Nilai presisinya 0.9150943396226415 <br>"
      ]
    },
    {
      "cell_type": "code",
      "execution_count": null,
      "metadata": {
        "id": "zzc1tZ6SbXjp"
      },
      "outputs": [],
      "source": []
    }
  ],
  "metadata": {
    "kernelspec": {
      "display_name": "Python 3",
      "language": "python",
      "name": "python3"
    },
    "language_info": {
      "codemirror_mode": {
        "name": "ipython",
        "version": 3
      },
      "file_extension": ".py",
      "mimetype": "text/x-python",
      "name": "python",
      "nbconvert_exporter": "python",
      "pygments_lexer": "ipython3",
      "version": "3.8.5"
    },
    "colab": {
      "provenance": [],
      "toc_visible": true,
      "include_colab_link": true
    }
  },
  "nbformat": 4,
  "nbformat_minor": 0
}